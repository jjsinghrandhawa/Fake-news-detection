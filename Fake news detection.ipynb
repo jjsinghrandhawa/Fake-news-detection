{
 "cells": [
  {
   "cell_type": "markdown",
   "id": "716f0c47",
   "metadata": {},
   "source": [
    "<h1><center>Fake News Detection</h1>"
   ]
  },
  {
   "cell_type": "code",
   "execution_count": 1,
   "id": "7ea39dbe",
   "metadata": {},
   "outputs": [],
   "source": [
    "import pandas as pd\n",
    "import matplotlib.pyplot as plt\n",
    "import seaborn as sns\n",
    "from nltk.corpus import stopwords\n",
    "from nltk.stem.porter import PorterStemmer\n",
    "import re\n",
    "from sklearn.tree import DecisionTreeClassifier\n",
    "from sklearn.ensemble import RandomForestClassifier, AdaBoostClassifier\n",
    "from sklearn.linear_model import LogisticRegression\n",
    "from xgboost import XGBClassifier\n",
    "from sklearn.svm import SVC\n",
    "from sklearn.naive_bayes import GaussianNB \n",
    "from sklearn.neural_network import MLPClassifier\n",
    "from sklearn.neighbors import KNeighborsClassifier\n",
    "from sklearn.metrics import accuracy_score,classification_report,confusion_matrix, roc_auc_score\n",
    "from sklearn.model_selection import train_test_split\n",
    "from sklearn.feature_extraction.text import TfidfVectorizer\n",
    "import warnings\n",
    "warnings.filterwarnings('ignore')"
   ]
  },
  {
   "cell_type": "code",
   "execution_count": 2,
   "id": "b3e2e428",
   "metadata": {},
   "outputs": [
    {
     "data": {
      "text/html": [
       "<div>\n",
       "<style scoped>\n",
       "    .dataframe tbody tr th:only-of-type {\n",
       "        vertical-align: middle;\n",
       "    }\n",
       "\n",
       "    .dataframe tbody tr th {\n",
       "        vertical-align: top;\n",
       "    }\n",
       "\n",
       "    .dataframe thead th {\n",
       "        text-align: right;\n",
       "    }\n",
       "</style>\n",
       "<table border=\"1\" class=\"dataframe\">\n",
       "  <thead>\n",
       "    <tr style=\"text-align: right;\">\n",
       "      <th></th>\n",
       "      <th>Unnamed: 0</th>\n",
       "      <th>title</th>\n",
       "      <th>text</th>\n",
       "      <th>label</th>\n",
       "    </tr>\n",
       "  </thead>\n",
       "  <tbody>\n",
       "    <tr>\n",
       "      <th>0</th>\n",
       "      <td>8476</td>\n",
       "      <td>You Can Smell Hillary’s Fear</td>\n",
       "      <td>Daniel Greenfield, a Shillman Journalism Fello...</td>\n",
       "      <td>FAKE</td>\n",
       "    </tr>\n",
       "    <tr>\n",
       "      <th>1</th>\n",
       "      <td>10294</td>\n",
       "      <td>Watch The Exact Moment Paul Ryan Committed Pol...</td>\n",
       "      <td>Google Pinterest Digg Linkedin Reddit Stumbleu...</td>\n",
       "      <td>FAKE</td>\n",
       "    </tr>\n",
       "    <tr>\n",
       "      <th>2</th>\n",
       "      <td>3608</td>\n",
       "      <td>Kerry to go to Paris in gesture of sympathy</td>\n",
       "      <td>U.S. Secretary of State John F. Kerry said Mon...</td>\n",
       "      <td>REAL</td>\n",
       "    </tr>\n",
       "    <tr>\n",
       "      <th>3</th>\n",
       "      <td>10142</td>\n",
       "      <td>Bernie supporters on Twitter erupt in anger ag...</td>\n",
       "      <td>— Kaydee King (@KaydeeKing) November 9, 2016 T...</td>\n",
       "      <td>FAKE</td>\n",
       "    </tr>\n",
       "    <tr>\n",
       "      <th>4</th>\n",
       "      <td>875</td>\n",
       "      <td>The Battle of New York: Why This Primary Matters</td>\n",
       "      <td>It's primary day in New York and front-runners...</td>\n",
       "      <td>REAL</td>\n",
       "    </tr>\n",
       "    <tr>\n",
       "      <th>...</th>\n",
       "      <td>...</td>\n",
       "      <td>...</td>\n",
       "      <td>...</td>\n",
       "      <td>...</td>\n",
       "    </tr>\n",
       "    <tr>\n",
       "      <th>6330</th>\n",
       "      <td>4490</td>\n",
       "      <td>State Department says it can't find emails fro...</td>\n",
       "      <td>The State Department told the Republican Natio...</td>\n",
       "      <td>REAL</td>\n",
       "    </tr>\n",
       "    <tr>\n",
       "      <th>6331</th>\n",
       "      <td>8062</td>\n",
       "      <td>The ‘P’ in PBS Should Stand for ‘Plutocratic’ ...</td>\n",
       "      <td>The ‘P’ in PBS Should Stand for ‘Plutocratic’ ...</td>\n",
       "      <td>FAKE</td>\n",
       "    </tr>\n",
       "    <tr>\n",
       "      <th>6332</th>\n",
       "      <td>8622</td>\n",
       "      <td>Anti-Trump Protesters Are Tools of the Oligarc...</td>\n",
       "      <td>Anti-Trump Protesters Are Tools of the Oligar...</td>\n",
       "      <td>FAKE</td>\n",
       "    </tr>\n",
       "    <tr>\n",
       "      <th>6333</th>\n",
       "      <td>4021</td>\n",
       "      <td>In Ethiopia, Obama seeks progress on peace, se...</td>\n",
       "      <td>ADDIS ABABA, Ethiopia —President Obama convene...</td>\n",
       "      <td>REAL</td>\n",
       "    </tr>\n",
       "    <tr>\n",
       "      <th>6334</th>\n",
       "      <td>4330</td>\n",
       "      <td>Jeb Bush Is Suddenly Attacking Trump. Here's W...</td>\n",
       "      <td>Jeb Bush Is Suddenly Attacking Trump. Here's W...</td>\n",
       "      <td>REAL</td>\n",
       "    </tr>\n",
       "  </tbody>\n",
       "</table>\n",
       "<p>6335 rows × 4 columns</p>\n",
       "</div>"
      ],
      "text/plain": [
       "      Unnamed: 0                                              title  \\\n",
       "0           8476                       You Can Smell Hillary’s Fear   \n",
       "1          10294  Watch The Exact Moment Paul Ryan Committed Pol...   \n",
       "2           3608        Kerry to go to Paris in gesture of sympathy   \n",
       "3          10142  Bernie supporters on Twitter erupt in anger ag...   \n",
       "4            875   The Battle of New York: Why This Primary Matters   \n",
       "...          ...                                                ...   \n",
       "6330        4490  State Department says it can't find emails fro...   \n",
       "6331        8062  The ‘P’ in PBS Should Stand for ‘Plutocratic’ ...   \n",
       "6332        8622  Anti-Trump Protesters Are Tools of the Oligarc...   \n",
       "6333        4021  In Ethiopia, Obama seeks progress on peace, se...   \n",
       "6334        4330  Jeb Bush Is Suddenly Attacking Trump. Here's W...   \n",
       "\n",
       "                                                   text label  \n",
       "0     Daniel Greenfield, a Shillman Journalism Fello...  FAKE  \n",
       "1     Google Pinterest Digg Linkedin Reddit Stumbleu...  FAKE  \n",
       "2     U.S. Secretary of State John F. Kerry said Mon...  REAL  \n",
       "3     — Kaydee King (@KaydeeKing) November 9, 2016 T...  FAKE  \n",
       "4     It's primary day in New York and front-runners...  REAL  \n",
       "...                                                 ...   ...  \n",
       "6330  The State Department told the Republican Natio...  REAL  \n",
       "6331  The ‘P’ in PBS Should Stand for ‘Plutocratic’ ...  FAKE  \n",
       "6332   Anti-Trump Protesters Are Tools of the Oligar...  FAKE  \n",
       "6333  ADDIS ABABA, Ethiopia —President Obama convene...  REAL  \n",
       "6334  Jeb Bush Is Suddenly Attacking Trump. Here's W...  REAL  \n",
       "\n",
       "[6335 rows x 4 columns]"
      ]
     },
     "execution_count": 2,
     "metadata": {},
     "output_type": "execute_result"
    }
   ],
   "source": [
    "df=pd.read_csv('fake_or_real_news.csv')\n",
    "df"
   ]
  },
  {
   "cell_type": "code",
   "execution_count": 3,
   "id": "78b63485",
   "metadata": {},
   "outputs": [],
   "source": [
    "#Renaming column\n",
    "df.rename( columns={'Unnamed: 0':'ID'}, inplace=True )"
   ]
  },
  {
   "cell_type": "code",
   "execution_count": 4,
   "id": "c57179ce",
   "metadata": {},
   "outputs": [
    {
     "data": {
      "text/plain": [
       "(6335, 4)"
      ]
     },
     "execution_count": 4,
     "metadata": {},
     "output_type": "execute_result"
    }
   ],
   "source": [
    "df.shape"
   ]
  },
  {
   "cell_type": "code",
   "execution_count": 5,
   "id": "74ee1883",
   "metadata": {
    "scrolled": true
   },
   "outputs": [
    {
     "data": {
      "text/html": [
       "<div>\n",
       "<style scoped>\n",
       "    .dataframe tbody tr th:only-of-type {\n",
       "        vertical-align: middle;\n",
       "    }\n",
       "\n",
       "    .dataframe tbody tr th {\n",
       "        vertical-align: top;\n",
       "    }\n",
       "\n",
       "    .dataframe thead th {\n",
       "        text-align: right;\n",
       "    }\n",
       "</style>\n",
       "<table border=\"1\" class=\"dataframe\">\n",
       "  <thead>\n",
       "    <tr style=\"text-align: right;\">\n",
       "      <th></th>\n",
       "      <th>ID</th>\n",
       "      <th>title</th>\n",
       "      <th>text</th>\n",
       "      <th>label</th>\n",
       "    </tr>\n",
       "  </thead>\n",
       "  <tbody>\n",
       "    <tr>\n",
       "      <th>0</th>\n",
       "      <td>8476</td>\n",
       "      <td>You Can Smell Hillary’s Fear</td>\n",
       "      <td>Daniel Greenfield, a Shillman Journalism Fello...</td>\n",
       "      <td>FAKE</td>\n",
       "    </tr>\n",
       "    <tr>\n",
       "      <th>1</th>\n",
       "      <td>10294</td>\n",
       "      <td>Watch The Exact Moment Paul Ryan Committed Pol...</td>\n",
       "      <td>Google Pinterest Digg Linkedin Reddit Stumbleu...</td>\n",
       "      <td>FAKE</td>\n",
       "    </tr>\n",
       "    <tr>\n",
       "      <th>2</th>\n",
       "      <td>3608</td>\n",
       "      <td>Kerry to go to Paris in gesture of sympathy</td>\n",
       "      <td>U.S. Secretary of State John F. Kerry said Mon...</td>\n",
       "      <td>REAL</td>\n",
       "    </tr>\n",
       "    <tr>\n",
       "      <th>3</th>\n",
       "      <td>10142</td>\n",
       "      <td>Bernie supporters on Twitter erupt in anger ag...</td>\n",
       "      <td>— Kaydee King (@KaydeeKing) November 9, 2016 T...</td>\n",
       "      <td>FAKE</td>\n",
       "    </tr>\n",
       "    <tr>\n",
       "      <th>4</th>\n",
       "      <td>875</td>\n",
       "      <td>The Battle of New York: Why This Primary Matters</td>\n",
       "      <td>It's primary day in New York and front-runners...</td>\n",
       "      <td>REAL</td>\n",
       "    </tr>\n",
       "  </tbody>\n",
       "</table>\n",
       "</div>"
      ],
      "text/plain": [
       "      ID                                              title  \\\n",
       "0   8476                       You Can Smell Hillary’s Fear   \n",
       "1  10294  Watch The Exact Moment Paul Ryan Committed Pol...   \n",
       "2   3608        Kerry to go to Paris in gesture of sympathy   \n",
       "3  10142  Bernie supporters on Twitter erupt in anger ag...   \n",
       "4    875   The Battle of New York: Why This Primary Matters   \n",
       "\n",
       "                                                text label  \n",
       "0  Daniel Greenfield, a Shillman Journalism Fello...  FAKE  \n",
       "1  Google Pinterest Digg Linkedin Reddit Stumbleu...  FAKE  \n",
       "2  U.S. Secretary of State John F. Kerry said Mon...  REAL  \n",
       "3  — Kaydee King (@KaydeeKing) November 9, 2016 T...  FAKE  \n",
       "4  It's primary day in New York and front-runners...  REAL  "
      ]
     },
     "execution_count": 5,
     "metadata": {},
     "output_type": "execute_result"
    }
   ],
   "source": [
    "df.head()"
   ]
  },
  {
   "cell_type": "code",
   "execution_count": 6,
   "id": "84bbb7af",
   "metadata": {},
   "outputs": [
    {
     "name": "stdout",
     "output_type": "stream",
     "text": [
      "<class 'pandas.core.frame.DataFrame'>\n",
      "RangeIndex: 6335 entries, 0 to 6334\n",
      "Data columns (total 4 columns):\n",
      " #   Column  Non-Null Count  Dtype \n",
      "---  ------  --------------  ----- \n",
      " 0   ID      6335 non-null   int64 \n",
      " 1   title   6335 non-null   object\n",
      " 2   text    6335 non-null   object\n",
      " 3   label   6335 non-null   object\n",
      "dtypes: int64(1), object(3)\n",
      "memory usage: 198.1+ KB\n"
     ]
    }
   ],
   "source": [
    "df.info()"
   ]
  },
  {
   "cell_type": "code",
   "execution_count": 7,
   "id": "b06075a9",
   "metadata": {},
   "outputs": [
    {
     "data": {
      "text/plain": [
       "ID       0\n",
       "title    0\n",
       "text     0\n",
       "label    0\n",
       "dtype: int64"
      ]
     },
     "execution_count": 7,
     "metadata": {},
     "output_type": "execute_result"
    }
   ],
   "source": [
    "#Checking null values\n",
    "df.isnull().sum()"
   ]
  },
  {
   "cell_type": "markdown",
   "id": "1db0d5cb",
   "metadata": {},
   "source": [
    "<p><b>Counting number of fake and real news</b></p>"
   ]
  },
  {
   "cell_type": "code",
   "execution_count": 8,
   "id": "a18cc04e",
   "metadata": {},
   "outputs": [],
   "source": [
    "#creatung grouop by object to identify real vs fake news\n",
    "d=df.groupby('label')"
   ]
  },
  {
   "cell_type": "code",
   "execution_count": 9,
   "id": "362b2230",
   "metadata": {},
   "outputs": [],
   "source": [
    "fake_real=pd.DataFrame(df.label.value_counts())"
   ]
  },
  {
   "cell_type": "code",
   "execution_count": 10,
   "id": "ce87045e",
   "metadata": {},
   "outputs": [
    {
     "data": {
      "text/html": [
       "<div>\n",
       "<style scoped>\n",
       "    .dataframe tbody tr th:only-of-type {\n",
       "        vertical-align: middle;\n",
       "    }\n",
       "\n",
       "    .dataframe tbody tr th {\n",
       "        vertical-align: top;\n",
       "    }\n",
       "\n",
       "    .dataframe thead th {\n",
       "        text-align: right;\n",
       "    }\n",
       "</style>\n",
       "<table border=\"1\" class=\"dataframe\">\n",
       "  <thead>\n",
       "    <tr style=\"text-align: right;\">\n",
       "      <th></th>\n",
       "      <th>count</th>\n",
       "    </tr>\n",
       "    <tr>\n",
       "      <th>label</th>\n",
       "      <th></th>\n",
       "    </tr>\n",
       "  </thead>\n",
       "  <tbody>\n",
       "    <tr>\n",
       "      <th>REAL</th>\n",
       "      <td>3171</td>\n",
       "    </tr>\n",
       "    <tr>\n",
       "      <th>FAKE</th>\n",
       "      <td>3164</td>\n",
       "    </tr>\n",
       "  </tbody>\n",
       "</table>\n",
       "</div>"
      ],
      "text/plain": [
       "       count\n",
       "label       \n",
       "REAL    3171\n",
       "FAKE    3164"
      ]
     },
     "execution_count": 10,
     "metadata": {},
     "output_type": "execute_result"
    }
   ],
   "source": [
    "fake_real"
   ]
  },
  {
   "cell_type": "markdown",
   "id": "2e4eac55",
   "metadata": {},
   "source": [
    "<b>Checking Duplicate videos</b>"
   ]
  },
  {
   "cell_type": "code",
   "execution_count": 11,
   "id": "33eb27ec",
   "metadata": {},
   "outputs": [
    {
     "data": {
      "text/html": [
       "<div>\n",
       "<style scoped>\n",
       "    .dataframe tbody tr th:only-of-type {\n",
       "        vertical-align: middle;\n",
       "    }\n",
       "\n",
       "    .dataframe tbody tr th {\n",
       "        vertical-align: top;\n",
       "    }\n",
       "\n",
       "    .dataframe thead th {\n",
       "        text-align: right;\n",
       "    }\n",
       "</style>\n",
       "<table border=\"1\" class=\"dataframe\">\n",
       "  <thead>\n",
       "    <tr style=\"text-align: right;\">\n",
       "      <th></th>\n",
       "      <th>ID</th>\n",
       "      <th>title</th>\n",
       "      <th>text</th>\n",
       "      <th>label</th>\n",
       "    </tr>\n",
       "  </thead>\n",
       "  <tbody>\n",
       "    <tr>\n",
       "      <th>843</th>\n",
       "      <td>9998</td>\n",
       "      <td>The Israeli Trumpess</td>\n",
       "      <td>WHAT WILL Donald Trump do if he loses the elec...</td>\n",
       "      <td>FAKE</td>\n",
       "    </tr>\n",
       "    <tr>\n",
       "      <th>1464</th>\n",
       "      <td>10010</td>\n",
       "      <td>Michael Moore Owes Me $4.99</td>\n",
       "      <td>28, 2016 | Reviews   Michael Moore in New Yo...</td>\n",
       "      <td>FAKE</td>\n",
       "    </tr>\n",
       "    <tr>\n",
       "      <th>1492</th>\n",
       "      <td>2697</td>\n",
       "      <td>University of Missouri, please immediately fir...</td>\n",
       "      <td>To watch the video of photographer Tim Tai get...</td>\n",
       "      <td>REAL</td>\n",
       "    </tr>\n",
       "    <tr>\n",
       "      <th>1494</th>\n",
       "      <td>9264</td>\n",
       "      <td>Meteor, space junk, rocket? Mysterious flash h...</td>\n",
       "      <td>Meteor, space junk, rocket? Mysterious flash h...</td>\n",
       "      <td>FAKE</td>\n",
       "    </tr>\n",
       "    <tr>\n",
       "      <th>1603</th>\n",
       "      <td>7007</td>\n",
       "      <td>Hillary’s “Big Tent” is Obama’s “Grand Bargain...</td>\n",
       "      <td>B y BAR executive editor Glen Ford B arack Oba...</td>\n",
       "      <td>FAKE</td>\n",
       "    </tr>\n",
       "    <tr>\n",
       "      <th>...</th>\n",
       "      <td>...</td>\n",
       "      <td>...</td>\n",
       "      <td>...</td>\n",
       "      <td>...</td>\n",
       "    </tr>\n",
       "    <tr>\n",
       "      <th>6231</th>\n",
       "      <td>9542</td>\n",
       "      <td>Schools All Over America Are Closing On Electi...</td>\n",
       "      <td>in: Politics , Sleuth Journal , Special Intere...</td>\n",
       "      <td>FAKE</td>\n",
       "    </tr>\n",
       "    <tr>\n",
       "      <th>6233</th>\n",
       "      <td>7171</td>\n",
       "      <td>North Korea Threatens ‘Sacred’ Nuclear War Aga...</td>\n",
       "      <td>Email \\nNorth Korea’s Foreign Ministry slammed...</td>\n",
       "      <td>FAKE</td>\n",
       "    </tr>\n",
       "    <tr>\n",
       "      <th>6303</th>\n",
       "      <td>7437</td>\n",
       "      <td>The Deceptive Nature of Hillary Clinton is Rig...</td>\n",
       "      <td>Posted by David Risselada \\nMuch to the surpri...</td>\n",
       "      <td>FAKE</td>\n",
       "    </tr>\n",
       "    <tr>\n",
       "      <th>6307</th>\n",
       "      <td>9013</td>\n",
       "      <td>US abstains from UN vote calling for end to Cu...</td>\n",
       "      <td>US abstains from UN vote calling for end to Cu...</td>\n",
       "      <td>FAKE</td>\n",
       "    </tr>\n",
       "    <tr>\n",
       "      <th>6329</th>\n",
       "      <td>8737</td>\n",
       "      <td>Assange claims ‘crazed’ Clinton campaign tried...</td>\n",
       "      <td>Julian Assange has claimed the Hillary Clinton...</td>\n",
       "      <td>FAKE</td>\n",
       "    </tr>\n",
       "  </tbody>\n",
       "</table>\n",
       "<p>79 rows × 4 columns</p>\n",
       "</div>"
      ],
      "text/plain": [
       "         ID                                              title  \\\n",
       "843    9998                               The Israeli Trumpess   \n",
       "1464  10010                        Michael Moore Owes Me $4.99   \n",
       "1492   2697  University of Missouri, please immediately fir...   \n",
       "1494   9264  Meteor, space junk, rocket? Mysterious flash h...   \n",
       "1603   7007  Hillary’s “Big Tent” is Obama’s “Grand Bargain...   \n",
       "...     ...                                                ...   \n",
       "6231   9542  Schools All Over America Are Closing On Electi...   \n",
       "6233   7171  North Korea Threatens ‘Sacred’ Nuclear War Aga...   \n",
       "6303   7437  The Deceptive Nature of Hillary Clinton is Rig...   \n",
       "6307   9013  US abstains from UN vote calling for end to Cu...   \n",
       "6329   8737  Assange claims ‘crazed’ Clinton campaign tried...   \n",
       "\n",
       "                                                   text label  \n",
       "843   WHAT WILL Donald Trump do if he loses the elec...  FAKE  \n",
       "1464    28, 2016 | Reviews   Michael Moore in New Yo...  FAKE  \n",
       "1492  To watch the video of photographer Tim Tai get...  REAL  \n",
       "1494  Meteor, space junk, rocket? Mysterious flash h...  FAKE  \n",
       "1603  B y BAR executive editor Glen Ford B arack Oba...  FAKE  \n",
       "...                                                 ...   ...  \n",
       "6231  in: Politics , Sleuth Journal , Special Intere...  FAKE  \n",
       "6233  Email \\nNorth Korea’s Foreign Ministry slammed...  FAKE  \n",
       "6303  Posted by David Risselada \\nMuch to the surpri...  FAKE  \n",
       "6307  US abstains from UN vote calling for end to Cu...  FAKE  \n",
       "6329  Julian Assange has claimed the Hillary Clinton...  FAKE  \n",
       "\n",
       "[79 rows x 4 columns]"
      ]
     },
     "execution_count": 11,
     "metadata": {},
     "output_type": "execute_result"
    }
   ],
   "source": [
    "#finidng and dropping duplicate values\n",
    "df[df['title'].duplicated()]"
   ]
  },
  {
   "cell_type": "code",
   "execution_count": 12,
   "id": "1e457150",
   "metadata": {},
   "outputs": [],
   "source": [
    "df.drop_duplicates(subset='title', keep='last', inplace=True)"
   ]
  },
  {
   "cell_type": "code",
   "execution_count": 13,
   "id": "3894c4bd",
   "metadata": {},
   "outputs": [],
   "source": [
    "#dropping irrelevant columns\n",
    "df.drop(['ID','title'],axis=1,inplace=True)"
   ]
  },
  {
   "cell_type": "code",
   "execution_count": 14,
   "id": "ad2283f5",
   "metadata": {
    "scrolled": false
   },
   "outputs": [
    {
     "data": {
      "image/png": "[encoded data removed]",
      "text/plain": [
       "<Figure size 640x480 with 1 Axes>"
      ]
     },
     "metadata": {},
     "output_type": "display_data"
    }
   ],
   "source": [
    "#plotting count of real and fake news\n",
    "ax=sns.countplot(data=df,x='label')\n",
    "for p in ax.patches:\n",
    "        ax.annotate(format(p.get_height(),'1.0f'), (p.get_x()+0.3, p.get_height()+30))"
   ]
  },
  {
   "cell_type": "markdown",
   "id": "ab276919",
   "metadata": {},
   "source": [
    "<p><b>Since it is a balanced data, we can move ahead with the model development</b></p>"
   ]
  },
  {
   "cell_type": "code",
   "execution_count": 15,
   "id": "3a6b8f60",
   "metadata": {},
   "outputs": [],
   "source": [
    "portstemmer=PorterStemmer()#To find the root winder, stemmer is used"
   ]
  },
  {
   "cell_type": "code",
   "execution_count": 16,
   "id": "fc4dfc05",
   "metadata": {},
   "outputs": [],
   "source": [
    "'''There is no inbuilt fucntion to remove unwanted characters, labels, strings etc. So we need to define a function\n",
    "to remove those characters and then joining them to form a single list'''\n",
    "def stemming(news_text):\n",
    "    stemmed_content=re.sub('[^a-zA-Z]', ' ', news_text)\n",
    "    stemmed_content=stemmed_content.lower()\n",
    "    stemmed_content=stemmed_content.split()\n",
    "    stemmed_content=[portstemmer.stem(word) for word in stemmed_content if not word in stopwords.words('english')]            \n",
    "    stemmed_content=' '.join(stemmed_content)\n",
    "    return stemmed_content"
   ]
  },
  {
   "cell_type": "code",
   "execution_count": 17,
   "id": "235aab81",
   "metadata": {},
   "outputs": [],
   "source": [
    "#We can create a sample out of given dataset based on our conevenience and computational speed. Just change 'n' value\n",
    "sample_data=df.sample(n=1000, random_state=10)\n",
    "sample_data['text']= sample_data['text'].apply(stemming)"
   ]
  },
  {
   "cell_type": "code",
   "execution_count": 18,
   "id": "355d0dea",
   "metadata": {},
   "outputs": [],
   "source": [
    "#Creating two dataframes of dependent and independent features\n",
    "X=sample_data['text']\n",
    "y=sample_data['label'].apply(lambda x:1 if x=='FAKE' else 0)"
   ]
  },
  {
   "cell_type": "code",
   "execution_count": 19,
   "id": "3af28d3b",
   "metadata": {},
   "outputs": [],
   "source": [
    "#Partioning data into training and test data\n",
    "X_train , X_test , y_train, y_test = train_test_split(X, y, test_size=0.20,random_state=42)"
   ]
  },
  {
   "cell_type": "code",
   "execution_count": 20,
   "id": "24af75ac",
   "metadata": {},
   "outputs": [],
   "source": [
    "vectorizer=TfidfVectorizer()#We need to convert strings to vectors so that ML algorithms can act upon them as strings are not readable by ML models\n",
    "#Fitting the data\n",
    "X_train=vectorizer.fit_transform(X_train)\n",
    "X_test=vectorizer.transform(X_test)"
   ]
  },
  {
   "cell_type": "code",
   "execution_count": null,
   "id": "b3daf4fe",
   "metadata": {},
   "outputs": [],
   "source": []
  },
  {
   "cell_type": "code",
   "execution_count": 21,
   "id": "e1987334",
   "metadata": {},
   "outputs": [
    {
     "name": "stdout",
     "output_type": "stream",
     "text": [
      "Accuracy of Random Forest Classifier is 85.0% \n",
      "\n",
      "\n",
      "Accuracy of Logistic Regression is 86.5% \n",
      "\n",
      "\n",
      "Accuracy of SVC is 87.5% \n",
      "\n",
      "\n",
      "Accuracy of KNN is 51.5% \n",
      "\n",
      "\n",
      "Accuracy of XG Boost is 89.0% \n",
      "\n",
      "\n",
      "Accuracy of Decision Tree Classifier is 74.5% \n",
      "\n",
      "\n",
      "Accuracy of MLPClassifier is 86.0% \n",
      "\n",
      "\n",
      "Accuracy of AdaBoost is 86.5% \n",
      "\n",
      "\n"
     ]
    }
   ],
   "source": [
    "models_evaluation=[]\n",
    "prediction_report=[]\n",
    "auc_score=[]\n",
    "target_names=['REAL','FAKE']\n",
    "model_evaluation=[]\n",
    "classification_report=[]\n",
    "cm=[]\n",
    "AUC_score=[]\n",
    "model_list={'Random Forest Classifier':RandomForestClassifier(n_estimators=100),\n",
    "            'Logistic Regression':LogisticRegression(),\n",
    "           'SVC':SVC(random_state=101,probability=True),\n",
    "            'KNN':KNeighborsClassifier(n_neighbors=7),\n",
    "            'XG Boost':XGBClassifier(),\n",
    "           'Decision Tree Classifier':DecisionTreeClassifier(),\n",
    "           'MLPClassifier':MLPClassifier(),\n",
    "           'AdaBoost':AdaBoostClassifier()}\n",
    "\n",
    "for name,model in model_list.items():\n",
    "    \n",
    "    model.fit(X_train,y_train)\n",
    "    prediction=model.predict(X_test)\n",
    "    prediction_report.append(prediction)\n",
    "    accuracy = accuracy_score(y_test, prediction)*100\n",
    "    cm.append(confusion_matrix(y_test,prediction))\n",
    "    model_evaluation.append([name,accuracy,cm])\n",
    "    print('Accuracy of {} is {}%'.format(name,accuracy),'\\n\\n')\n",
    "#     print(classification_report(y_test,prediction_report))"
   ]
  },
  {
   "cell_type": "code",
   "execution_count": 22,
   "id": "ff1ccc46",
   "metadata": {},
   "outputs": [
    {
     "data": {
      "text/html": [
       "<div>\n",
       "<style scoped>\n",
       "    .dataframe tbody tr th:only-of-type {\n",
       "        vertical-align: middle;\n",
       "    }\n",
       "\n",
       "    .dataframe tbody tr th {\n",
       "        vertical-align: top;\n",
       "    }\n",
       "\n",
       "    .dataframe thead th {\n",
       "        text-align: right;\n",
       "    }\n",
       "</style>\n",
       "<table border=\"1\" class=\"dataframe\">\n",
       "  <thead>\n",
       "    <tr style=\"text-align: right;\">\n",
       "      <th></th>\n",
       "      <th>Classifier</th>\n",
       "      <th>Accuracy</th>\n",
       "      <th>Confusion_matrix</th>\n",
       "    </tr>\n",
       "  </thead>\n",
       "  <tbody>\n",
       "    <tr>\n",
       "      <th>3</th>\n",
       "      <td>KNN</td>\n",
       "      <td>51.5</td>\n",
       "      <td>[[[90, 13], [17, 80]], [[86, 17], [10, 87]], [...</td>\n",
       "    </tr>\n",
       "    <tr>\n",
       "      <th>5</th>\n",
       "      <td>Decision Tree Classifier</td>\n",
       "      <td>74.5</td>\n",
       "      <td>[[[90, 13], [17, 80]], [[86, 17], [10, 87]], [...</td>\n",
       "    </tr>\n",
       "    <tr>\n",
       "      <th>0</th>\n",
       "      <td>Random Forest Classifier</td>\n",
       "      <td>85.0</td>\n",
       "      <td>[[[90, 13], [17, 80]], [[86, 17], [10, 87]], [...</td>\n",
       "    </tr>\n",
       "    <tr>\n",
       "      <th>6</th>\n",
       "      <td>MLPClassifier</td>\n",
       "      <td>86.0</td>\n",
       "      <td>[[[90, 13], [17, 80]], [[86, 17], [10, 87]], [...</td>\n",
       "    </tr>\n",
       "    <tr>\n",
       "      <th>1</th>\n",
       "      <td>Logistic Regression</td>\n",
       "      <td>86.5</td>\n",
       "      <td>[[[90, 13], [17, 80]], [[86, 17], [10, 87]], [...</td>\n",
       "    </tr>\n",
       "    <tr>\n",
       "      <th>7</th>\n",
       "      <td>AdaBoost</td>\n",
       "      <td>86.5</td>\n",
       "      <td>[[[90, 13], [17, 80]], [[86, 17], [10, 87]], [...</td>\n",
       "    </tr>\n",
       "    <tr>\n",
       "      <th>2</th>\n",
       "      <td>SVC</td>\n",
       "      <td>87.5</td>\n",
       "      <td>[[[90, 13], [17, 80]], [[86, 17], [10, 87]], [...</td>\n",
       "    </tr>\n",
       "    <tr>\n",
       "      <th>4</th>\n",
       "      <td>XG Boost</td>\n",
       "      <td>89.0</td>\n",
       "      <td>[[[90, 13], [17, 80]], [[86, 17], [10, 87]], [...</td>\n",
       "    </tr>\n",
       "  </tbody>\n",
       "</table>\n",
       "</div>"
      ],
      "text/plain": [
       "                 Classifier  Accuracy  \\\n",
       "3                       KNN      51.5   \n",
       "5  Decision Tree Classifier      74.5   \n",
       "0  Random Forest Classifier      85.0   \n",
       "6             MLPClassifier      86.0   \n",
       "1       Logistic Regression      86.5   \n",
       "7                  AdaBoost      86.5   \n",
       "2                       SVC      87.5   \n",
       "4                  XG Boost      89.0   \n",
       "\n",
       "                                    Confusion_matrix  \n",
       "3  [[[90, 13], [17, 80]], [[86, 17], [10, 87]], [...  \n",
       "5  [[[90, 13], [17, 80]], [[86, 17], [10, 87]], [...  \n",
       "0  [[[90, 13], [17, 80]], [[86, 17], [10, 87]], [...  \n",
       "6  [[[90, 13], [17, 80]], [[86, 17], [10, 87]], [...  \n",
       "1  [[[90, 13], [17, 80]], [[86, 17], [10, 87]], [...  \n",
       "7  [[[90, 13], [17, 80]], [[86, 17], [10, 87]], [...  \n",
       "2  [[[90, 13], [17, 80]], [[86, 17], [10, 87]], [...  \n",
       "4  [[[90, 13], [17, 80]], [[86, 17], [10, 87]], [...  "
      ]
     },
     "execution_count": 22,
     "metadata": {},
     "output_type": "execute_result"
    }
   ],
   "source": [
    "model_info=pd.DataFrame(model_evaluation,columns=['Classifier','Accuracy','Confusion_matrix'])\n",
    "model_info=model_info.sort_values(by='Accuracy')\n",
    "model_info"
   ]
  },
  {
   "cell_type": "code",
   "execution_count": 24,
   "id": "b8916e1c",
   "metadata": {},
   "outputs": [
    {
     "data": {
      "image/png": "[encoded data removed]",
      "text/plain": [
       "<Figure size 800x500 with 1 Axes>"
      ]
     },
     "metadata": {},
     "output_type": "display_data"
    }
   ],
   "source": [
    "plt.figure(figsize=(8,5))\n",
    "plt.title('Accuracy compariosn of different classifiers')\n",
    "ax=sns.barplot(x=model_info['Classifier'],y=model_info['Accuracy'])\n",
    "for p in ax.patches:\n",
    "    ax.annotate(format(p.get_height(), '.2f'),(p.get_x() + p.get_width()-0.4,p.get_height()), \n",
    "                ha='center', va='center',size=9, xytext=(0, 8),textcoords='offset points')\n",
    "plt.xticks(rotation=90)\n",
    "plt.show()"
   ]
  }
 ],
 "metadata": {
  "kernelspec": {
   "display_name": "Python 3 (ipykernel)",
   "language": "python",
   "name": "python3"
  },
  "language_info": {
   "codemirror_mode": {
    "name": "ipython",
    "version": 3
   },
   "file_extension": ".py",
   "mimetype": "text/x-python",
   "name": "python",
   "nbconvert_exporter": "python",
   "pygments_lexer": "ipython3",
   "version": "3.10.9"
  }
 },
 "nbformat": 4,
 "nbformat_minor": 5
}
